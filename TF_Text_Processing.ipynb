{
  "nbformat": 4,
  "nbformat_minor": 0,
  "metadata": {
    "colab": {
      "provenance": [],
      "authorship_tag": "ABX9TyNNTlIGXMCB+sIeBqOfZr8h",
      "include_colab_link": true
    },
    "kernelspec": {
      "name": "python3",
      "display_name": "Python 3"
    },
    "language_info": {
      "name": "python"
    }
  },
  "cells": [
    {
      "cell_type": "markdown",
      "metadata": {
        "id": "view-in-github",
        "colab_type": "text"
      },
      "source": [
        "<a href=\"https://colab.research.google.com/github/soodeh-nilforoushan/Recurrent-Neural-Network/blob/main/TF_Text_Processing.ipynb\" target=\"_parent\"><img src=\"https://colab.research.google.com/assets/colab-badge.svg\" alt=\"Open In Colab\"/></a>"
      ]
    },
    {
      "cell_type": "code",
      "execution_count": 2,
      "metadata": {
        "colab": {
          "base_uri": "https://localhost:8080/"
        },
        "id": "lDk_x7kYarMW",
        "outputId": "375028be-1220-44f4-aab1-ae8cc2e76b64"
      },
      "outputs": [
        {
          "output_type": "stream",
          "name": "stdout",
          "text": [
            "2.12.0\n"
          ]
        }
      ],
      "source": [
        "!pip install -q tensorflow\n",
        "import tensorflow as tf\n",
        "print(tf.__version__)"
      ]
    },
    {
      "cell_type": "code",
      "source": [
        "from tensorflow.keras.preprocessing.text import Tokenizer\n",
        "from tensorflow.keras.preprocessing.sequence import pad_sequences\n"
      ],
      "metadata": {
        "id": "7tcIpx1qu2yv"
      },
      "execution_count": 3,
      "outputs": []
    },
    {
      "cell_type": "code",
      "source": [
        "#just a simple test\n",
        "sentences=[\n",
        "    \"I like eggs and ham.\",\n",
        "    \"I love chocolote an bunnies.\",\n",
        "    \"I hate onions.\"\n",
        "]"
      ],
      "metadata": {
        "id": "SdYfsTWovQQV"
      },
      "execution_count": 4,
      "outputs": []
    },
    {
      "cell_type": "code",
      "source": [
        "from typing import Sequence\n",
        "MAX_VOCAB_SIZE=20000 #The Oxford Dictionary has almost 200,000 words, but the most common words in the English language number only about 3000.\n",
        "tokenizer=Tokenizer(num_words=MAX_VOCAB_SIZE)\n",
        "tokenizer.fit_on_texts(sentences)\n",
        "sequences=tokenizer.texts_to_sequences(sentences)"
      ],
      "metadata": {
        "id": "ukWe37b9wNXR"
      },
      "execution_count": 10,
      "outputs": []
    },
    {
      "cell_type": "code",
      "source": [
        "print(sequences)\n",
        "#note that the integers start counting from one and not zero, as you might have expected.\n",
        "# this is because TensorFlow uses zero for padding."
      ],
      "metadata": {
        "colab": {
          "base_uri": "https://localhost:8080/"
        },
        "id": "p9BsRGjqwxsd",
        "outputId": "cf16551c-9ab0-4f06-aeab-83efb2561cf5"
      },
      "execution_count": 11,
      "outputs": [
        {
          "output_type": "stream",
          "name": "stdout",
          "text": [
            "[[1, 2, 3, 4, 5], [1, 6, 7, 8, 9], [1, 10, 11]]\n"
          ]
        }
      ]
    },
    {
      "cell_type": "code",
      "source": [
        "#how to get the word to index mapping?\n",
        "tokenizer.word_index"
      ],
      "metadata": {
        "colab": {
          "base_uri": "https://localhost:8080/"
        },
        "id": "nZeXUdmu0NOe",
        "outputId": "dea0ab91-d181-4bb2-abc0-b12c7f0b837d"
      },
      "execution_count": 8,
      "outputs": [
        {
          "output_type": "execute_result",
          "data": {
            "text/plain": [
              "{'i': 1,\n",
              " 'like': 2,\n",
              " 'eggs': 3,\n",
              " 'and': 4,\n",
              " 'ham': 5,\n",
              " 'love': 6,\n",
              " 'chocolote': 7,\n",
              " 'an': 8,\n",
              " 'bunnies': 9,\n",
              " 'hate': 10,\n",
              " 'onions': 11}"
            ]
          },
          "metadata": {},
          "execution_count": 8
        }
      ]
    },
    {
      "cell_type": "code",
      "source": [
        "#use the defaults\n",
        "data=pad_sequences(sequences)\n",
        "print(data)\n",
        "# there is padding for the third sentence at the beggining"
      ],
      "metadata": {
        "colab": {
          "base_uri": "https://localhost:8080/"
        },
        "id": "dEvvbN2V0xPy",
        "outputId": "4a0e2a03-59f3-4953-e482-101b210f00b1"
      },
      "execution_count": 14,
      "outputs": [
        {
          "output_type": "stream",
          "name": "stdout",
          "text": [
            "[[ 1  2  3  4  5]\n",
            " [ 1  6  7  8  9]\n",
            " [ 0  0  1 10 11]]\n"
          ]
        }
      ]
    },
    {
      "cell_type": "code",
      "source": [
        "MAX_SEQUENCE_LENGTH=5\n",
        "data=pad_sequences(sequences,maxlen=MAX_SEQUENCE_LENGTH,padding=\"post\")\n",
        "print(data)\n",
        "#we can see that if we explicitly pass in maxlen equals five, we get the same answer."
      ],
      "metadata": {
        "colab": {
          "base_uri": "https://localhost:8080/"
        },
        "id": "yDnVtaQr29_D",
        "outputId": "5ef9a674-eb6c-4cb5-d5b2-c580cd9f0fad"
      },
      "execution_count": 15,
      "outputs": [
        {
          "output_type": "stream",
          "name": "stdout",
          "text": [
            "[[ 1  2  3  4  5]\n",
            " [ 1  6  7  8  9]\n",
            " [ 1 10 11  0  0]]\n"
          ]
        }
      ]
    },
    {
      "cell_type": "code",
      "source": [
        "#too much padding\n",
        "data=pad_sequences(sequences,maxlen=6)\n",
        "print(data)"
      ],
      "metadata": {
        "colab": {
          "base_uri": "https://localhost:8080/"
        },
        "id": "1ZNhkg973k_1",
        "outputId": "6685838b-0d66-44d3-9f75-f2cc6d3e5fa1"
      },
      "execution_count": 17,
      "outputs": [
        {
          "output_type": "stream",
          "name": "stdout",
          "text": [
            "[[ 0  1  2  3  4  5]\n",
            " [ 0  1  6  7  8  9]\n",
            " [ 0  0  0  1 10 11]]\n"
          ]
        }
      ]
    },
    {
      "cell_type": "code",
      "source": [
        "#truncation\n",
        "data=pad_sequences(sequences,maxlen=4)\n",
        "print(data)"
      ],
      "metadata": {
        "colab": {
          "base_uri": "https://localhost:8080/"
        },
        "id": "EA10c14u3ybr",
        "outputId": "7697b8e5-1f42-46c1-970e-5edb5c486d74"
      },
      "execution_count": 18,
      "outputs": [
        {
          "output_type": "stream",
          "name": "stdout",
          "text": [
            "[[ 2  3  4  5]\n",
            " [ 6  7  8  9]\n",
            " [ 0  1 10 11]]\n"
          ]
        }
      ]
    },
    {
      "cell_type": "code",
      "source": [
        "#truncation\n",
        "data=pad_sequences(sequences,maxlen=4,truncating=\"post\")\n",
        "print(data)"
      ],
      "metadata": {
        "colab": {
          "base_uri": "https://localhost:8080/"
        },
        "id": "Fuv_xHgq4Wbu",
        "outputId": "6cceb403-52c8-48de-86ec-3cabc3439db2"
      },
      "execution_count": 19,
      "outputs": [
        {
          "output_type": "stream",
          "name": "stdout",
          "text": [
            "[[ 1  2  3  4]\n",
            " [ 1  6  7  8]\n",
            " [ 0  1 10 11]]\n"
          ]
        }
      ]
    }
  ]
}