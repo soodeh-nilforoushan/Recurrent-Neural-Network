{
  "nbformat": 4,
  "nbformat_minor": 0,
  "metadata": {
    "colab": {
      "provenance": [],
      "authorship_tag": "ABX9TyNDBWHxJPfT8BHt4vasjzHz",
      "include_colab_link": true
    },
    "kernelspec": {
      "name": "python3",
      "display_name": "Python 3"
    },
    "language_info": {
      "name": "python"
    }
  },
  "cells": [
    {
      "cell_type": "markdown",
      "metadata": {
        "id": "view-in-github",
        "colab_type": "text"
      },
      "source": [
        "<a href=\"https://colab.research.google.com/github/soodeh-nilforoushan/Recurrent-Neural-Network/blob/main/7_TF_RNN_Shapes.ipynb\" target=\"_parent\"><img src=\"https://colab.research.google.com/assets/colab-badge.svg\" alt=\"Open In Colab\"/></a>"
      ]
    },
    {
      "cell_type": "code",
      "execution_count": 1,
      "metadata": {
        "colab": {
          "base_uri": "https://localhost:8080/"
        },
        "id": "c-Grou_K-H9u",
        "outputId": "c3f8885a-ede9-4b27-b24e-0b539cfb091a"
      },
      "outputs": [
        {
          "output_type": "stream",
          "name": "stdout",
          "text": [
            "2.12.0\n"
          ]
        }
      ],
      "source": [
        "!pip install -q tensorflow\n",
        "import tensorflow as tf\n",
        "print(tf.__version__)"
      ]
    },
    {
      "cell_type": "code",
      "source": [
        "from tensorflow.keras.layers import Input, Dense, Flatten, SimpleRNN\n",
        "from tensorflow.keras.models import Model\n",
        "from tensorflow.keras.optimizers import SGD, Adam\n",
        "\n",
        "import numpy as np\n",
        "import pandas as pd\n",
        "import matplotlib.pyplot as plt"
      ],
      "metadata": {
        "id": "mOLh5fc2-Tqh"
      },
      "execution_count": 2,
      "outputs": []
    },
    {
      "cell_type": "code",
      "source": [
        "# N=number of samples\n",
        "# T=sequence length\n",
        "# D=number of input features\n",
        "# M=number of hidden unites\n",
        "# K=number of output units"
      ],
      "metadata": {
        "id": "GyJlgTy6-Z9x"
      },
      "execution_count": null,
      "outputs": []
    },
    {
      "cell_type": "code",
      "source": [
        "#Make some data\n",
        "N=1\n",
        "T=10\n",
        "D=3\n",
        "K=2\n",
        "X=np.random.randn(N,T,D)\n",
        "print(X)"
      ],
      "metadata": {
        "colab": {
          "base_uri": "https://localhost:8080/"
        },
        "id": "gvRlh561-s2Q",
        "outputId": "b07555c8-0acc-44fa-a9b2-788d3d213ce8"
      },
      "execution_count": 6,
      "outputs": [
        {
          "output_type": "stream",
          "name": "stdout",
          "text": [
            "[[[ 0.96415351 -0.32766151 -0.83264496]\n",
            "  [ 1.18821148 -0.95587978 -0.63281209]\n",
            "  [ 0.49629085 -1.32032286  0.1856647 ]\n",
            "  [ 0.94511146  0.21273143  1.43388822]\n",
            "  [ 0.56099855  0.02041168  0.66904066]\n",
            "  [-0.98858077 -1.74809208  0.04803899]\n",
            "  [ 0.71418951  0.43606031  1.16335782]\n",
            "  [-0.07931035 -0.36437869 -2.43256712]\n",
            "  [-0.7075999   0.83161351 -0.16246651]\n",
            "  [ 1.60094987  1.93938013 -1.66356615]]]\n"
          ]
        }
      ]
    },
    {
      "cell_type": "code",
      "source": [
        "#make a RNN\n",
        "M=5 #number of hidden units\n",
        "i=Input(shape=(T,D))\n",
        "#simple RNN layer which has the number of hidden units m. Let's assume the default activation, which is a  Thanh.\n",
        "x=SimpleRNN(M)(i)\n",
        "x=Dense(K)(x)\n",
        "model=Model(i,x)\n"
      ],
      "metadata": {
        "id": "bjpjL0px_Emt"
      },
      "execution_count": 11,
      "outputs": []
    },
    {
      "cell_type": "code",
      "source": [
        "#get the output\n",
        "Yhat=model.predict(X)\n",
        "print(Yhat)\n",
        "#both our data and weights are random, so this prediction is not meaningful.\n",
        "#These numbers are really just for sanity checking."
      ],
      "metadata": {
        "colab": {
          "base_uri": "https://localhost:8080/"
        },
        "id": "74WqBrVyQfMO",
        "outputId": "83d952c9-1083-4442-cb26-b804ddbfdd2e"
      },
      "execution_count": 14,
      "outputs": [
        {
          "output_type": "stream",
          "name": "stdout",
          "text": [
            "1/1 [==============================] - 0s 16ms/step\n",
            "[[-1.8315885  1.0609448]]\n"
          ]
        }
      ]
    },
    {
      "cell_type": "code",
      "source": [
        "#Next we can do a model summary so that we can see all the layers of our RNN.\n",
        "model.summary()\n"
      ],
      "metadata": {
        "colab": {
          "base_uri": "https://localhost:8080/"
        },
        "id": "jiz-9bS7VYwo",
        "outputId": "713180cb-b569-4081-97f4-459c18ea3c69"
      },
      "execution_count": 15,
      "outputs": [
        {
          "output_type": "stream",
          "name": "stdout",
          "text": [
            "Model: \"model_3\"\n",
            "_________________________________________________________________\n",
            " Layer (type)                Output Shape              Param #   \n",
            "=================================================================\n",
            " input_4 (InputLayer)        [(None, 10, 3)]           0         \n",
            "                                                                 \n",
            " simple_rnn_3 (SimpleRNN)    (None, 5)                 45        \n",
            "                                                                 \n",
            " dense_3 (Dense)             (None, 2)                 12        \n",
            "                                                                 \n",
            "=================================================================\n",
            "Total params: 57\n",
            "Trainable params: 57\n",
            "Non-trainable params: 0\n",
            "_________________________________________________________________\n"
          ]
        }
      ]
    },
    {
      "cell_type": "code",
      "source": [
        "#see what is returend\n",
        "model.layers[1].get_weights()"
      ],
      "metadata": {
        "colab": {
          "base_uri": "https://localhost:8080/"
        },
        "id": "jEQYhdCcV3vp",
        "outputId": "c018ed84-b636-4033-deda-a59e2b97e209"
      },
      "execution_count": 16,
      "outputs": [
        {
          "output_type": "execute_result",
          "data": {
            "text/plain": [
              "[array([[ 0.5466134 , -0.6805535 , -0.6224454 ,  0.8011251 , -0.20999926],\n",
              "        [ 0.6383043 ,  0.630971  , -0.35103387,  0.8517476 ,  0.54200464],\n",
              "        [-0.03232884, -0.44037172, -0.36466402,  0.3240375 ,  0.5365495 ]],\n",
              "       dtype=float32),\n",
              " array([[-0.22596276,  0.20312642,  0.560819  ,  0.7539082 , -0.15743303],\n",
              "        [ 0.14271495,  0.62257   , -0.67403036,  0.36970937, -0.03220384],\n",
              "        [-0.09012795,  0.55602187,  0.31629795, -0.26242718,  0.71680135],\n",
              "        [ 0.69811887,  0.3564884 ,  0.36210012, -0.24790093, -0.43928882],\n",
              "        [-0.6580884 ,  0.36728996,  0.00207159, -0.40572724, -0.5171063 ]],\n",
              "       dtype=float32),\n",
              " array([0., 0., 0., 0., 0.], dtype=float32)]"
            ]
          },
          "metadata": {},
          "execution_count": 16
        }
      ]
    },
    {
      "cell_type": "code",
      "source": [
        "\n",
        "#check the shapes\n",
        "# we can deduce which array corresponds to which weight in the simple rnn.\n",
        "# The first weight is D by M, which means it's the input to hidden weight.\n",
        "# The second weight is M by M, which means it's the hidden to hidden weight.\n",
        "#third weight is a vector of length M, which means it's the bias term.\n",
        "a,b,c=model.layers[1].get_weights()\n",
        "print(a.shape,b.shape,c.shape)"
      ],
      "metadata": {
        "colab": {
          "base_uri": "https://localhost:8080/"
        },
        "id": "2Ejw7O77WbAr",
        "outputId": "e2db0529-4e4c-493b-a474-91398c054fdc"
      },
      "execution_count": 17,
      "outputs": [
        {
          "output_type": "stream",
          "name": "stdout",
          "text": [
            "(3, 5) (5, 5) (5,)\n"
          ]
        }
      ]
    },
    {
      "cell_type": "code",
      "source": [
        "Wx,Wh,bh=model.layers[1].get_weights()\n",
        "Wo, bo=model.layers[2].get_weights()"
      ],
      "metadata": {
        "id": "nFtRehPmYzPP"
      },
      "execution_count": 19,
      "outputs": []
    },
    {
      "cell_type": "code",
      "source": [
        "h_last=np.zeros(M)\n",
        "x=X[0]\n",
        "Yhats=[]\n",
        "\n",
        "for t in range(T):\n",
        "  h=np.tanh(x[t].dot(Wx)+h_last.dot(Wh)+bh)\n",
        "  y=h.dot(Wo)+bo #we only care about this value on the last iteration\n",
        "  Yhats.append(y)\n",
        "\n",
        "  #assign h to h_last\n",
        "  h_last=h\n",
        "\n",
        "#print the final output\n",
        "print(Yhats[-1])"
      ],
      "metadata": {
        "colab": {
          "base_uri": "https://localhost:8080/"
        },
        "id": "OCCKU7WSZBbf",
        "outputId": "38a22ce4-cb0b-4490-a568-fe63b971ddc0"
      },
      "execution_count": 22,
      "outputs": [
        {
          "output_type": "stream",
          "name": "stdout",
          "text": [
            "[-1.8315885   1.06094479]\n"
          ]
        }
      ]
    },
    {
      "cell_type": "markdown",
      "source": [
        "We've confirmed that these are indeed the calculations that are done in the simple RNN in box 14"
      ],
      "metadata": {
        "id": "QS24cMXLf9aZ"
      }
    },
    {
      "cell_type": "code",
      "source": [],
      "metadata": {
        "id": "zG6iEbWYgCKb"
      },
      "execution_count": null,
      "outputs": []
    }
  ]
}